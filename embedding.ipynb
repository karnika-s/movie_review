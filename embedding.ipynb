{
 "cells": [
  {
   "cell_type": "code",
   "execution_count": 5,
   "metadata": {},
   "outputs": [],
   "source": [
    "from tensorflow.keras.preprocessing.text import one_hot"
   ]
  },
  {
   "cell_type": "code",
   "execution_count": 6,
   "metadata": {},
   "outputs": [],
   "source": [
    "### sentences\n",
    "sent=[  'the glass of milk',\n",
    "     'the glass of juice',\n",
    "     'the cup of tea',\n",
    "    'I am a good boy',\n",
    "     'I am a good developer',\n",
    "     'understand the meaning of words',\n",
    "     'your videos are good',]"
   ]
  },
  {
   "cell_type": "code",
   "execution_count": 7,
   "metadata": {},
   "outputs": [
    {
     "data": {
      "text/plain": [
       "['the glass of milk',\n",
       " 'the glass of juice',\n",
       " 'the cup of tea',\n",
       " 'I am a good boy',\n",
       " 'I am a good developer',\n",
       " 'understand the meaning of words',\n",
       " 'your videos are good']"
      ]
     },
     "execution_count": 7,
     "metadata": {},
     "output_type": "execute_result"
    }
   ],
   "source": [
    "sent"
   ]
  },
  {
   "cell_type": "code",
   "execution_count": 8,
   "metadata": {},
   "outputs": [],
   "source": [
    "## Define the vocabulary size\n",
    "# convertint to ventors \n",
    "voc_size=10000"
   ]
  },
  {
   "cell_type": "code",
   "execution_count": 9,
   "metadata": {},
   "outputs": [
    {
     "data": {
      "text/plain": [
       "['the glass of milk',\n",
       " 'the glass of juice',\n",
       " 'the cup of tea',\n",
       " 'I am a good boy',\n",
       " 'I am a good developer',\n",
       " 'understand the meaning of words',\n",
       " 'your videos are good']"
      ]
     },
     "execution_count": 9,
     "metadata": {},
     "output_type": "execute_result"
    }
   ],
   "source": [
    "sent"
   ]
  },
  {
   "cell_type": "code",
   "execution_count": 22,
   "metadata": {},
   "outputs": [
    {
     "data": {
      "text/plain": [
       "[[4498, 9184, 8571, 105],\n",
       " [4498, 9184, 8571, 3273],\n",
       " [4498, 9608, 8571, 5965],\n",
       " [7256, 9023, 2933, 3654, 6368],\n",
       " [7256, 9023, 2933, 3654, 9278],\n",
       " [1843, 4498, 6187, 8571, 2043],\n",
       " [9736, 1349, 2736, 3654]]"
      ]
     },
     "execution_count": 22,
     "metadata": {},
     "output_type": "execute_result"
    }
   ],
   "source": [
    "# One Hot Representation for every word\n",
    "# words from each sentence is taken out and passed\n",
    "# 2 params, 1st is words 2nd is vocab size\n",
    "# list representation\n",
    "# words representation within 10000 ki window\n",
    "one_hot_repr=[one_hot(words,voc_size)for words in sent]\n",
    "one_hot_repr"
   ]
  },
  {
   "cell_type": "markdown",
   "metadata": {},
   "source": [
    "cosince similarity is the concept behind recommendation systems"
   ]
  },
  {
   "cell_type": "code",
   "execution_count": 23,
   "metadata": {},
   "outputs": [],
   "source": [
    "#word Embedding Representation\n",
    "\n",
    "from tensorflow.keras.layers import Embedding\n",
    "from tensorflow.keras.utils import pad_sequences\n",
    "from tensorflow.keras.models import Sequential\n",
    "import numpy as np\n",
    "\n",
    "# we need to have all sentences of same length"
   ]
  },
  {
   "cell_type": "code",
   "execution_count": 29,
   "metadata": {},
   "outputs": [
    {
     "name": "stdout",
     "output_type": "stream",
     "text": [
      "[[   0    0    0    0 4498 9184 8571  105]\n",
      " [   0    0    0    0 4498 9184 8571 3273]\n",
      " [   0    0    0    0 4498 9608 8571 5965]\n",
      " [   0    0    0 7256 9023 2933 3654 6368]\n",
      " [   0    0    0 7256 9023 2933 3654 9278]\n",
      " [   0    0    0 1843 4498 6187 8571 2043]\n",
      " [   0    0    0    0 9736 1349 2736 3654]]\n"
     ]
    }
   ],
   "source": [
    "# using pade seq we can set max length to have in each sentence\n",
    "# for uniformity\n",
    "# add 0 as prefix or at end as per choice\n",
    "\n",
    "sent_length=8\n",
    "embedded_docs=pad_sequences(one_hot_repr,padding='pre',maxlen=sent_length)\n",
    "print(embedded_docs)"
   ]
  },
  {
   "cell_type": "code",
   "execution_count": 30,
   "metadata": {},
   "outputs": [],
   "source": [
    "#feature representation\n",
    "# wanted 10 features , means 10 dimentions\n",
    "dim=10"
   ]
  },
  {
   "cell_type": "code",
   "execution_count": 53,
   "metadata": {},
   "outputs": [],
   "source": [
    "model=Sequential()\n",
    "model.add(Embedding(voc_size,dim,input_length=sent_length))\n",
    "# model.compile('adam','mse')\n",
    "model.compile(optimizer='adam', loss='mse')\n",
    "# optimizer adam and loss function mse "
   ]
  },
  {
   "cell_type": "code",
   "execution_count": 56,
   "metadata": {},
   "outputs": [
    {
     "data": {
      "text/html": [
       "<pre style=\"white-space:pre;overflow-x:auto;line-height:normal;font-family:Menlo,'DejaVu Sans Mono',consolas,'Courier New',monospace\"><span style=\"font-weight: bold\">Model: \"sequential_6\"</span>\n",
       "</pre>\n"
      ],
      "text/plain": [
       "\u001b[1mModel: \"sequential_6\"\u001b[0m\n"
      ]
     },
     "metadata": {},
     "output_type": "display_data"
    },
    {
     "data": {
      "text/html": [
       "<pre style=\"white-space:pre;overflow-x:auto;line-height:normal;font-family:Menlo,'DejaVu Sans Mono',consolas,'Courier New',monospace\">┏━━━━━━━━━━━━━━━━━━━━━━━━━━━━━━━━━┳━━━━━━━━━━━━━━━━━━━━━━━━┳━━━━━━━━━━━━━━━┓\n",
       "┃<span style=\"font-weight: bold\"> Layer (type)                    </span>┃<span style=\"font-weight: bold\"> Output Shape           </span>┃<span style=\"font-weight: bold\">       Param # </span>┃\n",
       "┡━━━━━━━━━━━━━━━━━━━━━━━━━━━━━━━━━╇━━━━━━━━━━━━━━━━━━━━━━━━╇━━━━━━━━━━━━━━━┩\n",
       "│ embedding_6 (<span style=\"color: #0087ff; text-decoration-color: #0087ff\">Embedding</span>)         │ (<span style=\"color: #00af00; text-decoration-color: #00af00\">7</span>, <span style=\"color: #00af00; text-decoration-color: #00af00\">8</span>, <span style=\"color: #00af00; text-decoration-color: #00af00\">10</span>)             │       <span style=\"color: #00af00; text-decoration-color: #00af00\">100,000</span> │\n",
       "└─────────────────────────────────┴────────────────────────┴───────────────┘\n",
       "</pre>\n"
      ],
      "text/plain": [
       "┏━━━━━━━━━━━━━━━━━━━━━━━━━━━━━━━━━┳━━━━━━━━━━━━━━━━━━━━━━━━┳━━━━━━━━━━━━━━━┓\n",
       "┃\u001b[1m \u001b[0m\u001b[1mLayer (type)                   \u001b[0m\u001b[1m \u001b[0m┃\u001b[1m \u001b[0m\u001b[1mOutput Shape          \u001b[0m\u001b[1m \u001b[0m┃\u001b[1m \u001b[0m\u001b[1m      Param #\u001b[0m\u001b[1m \u001b[0m┃\n",
       "┡━━━━━━━━━━━━━━━━━━━━━━━━━━━━━━━━━╇━━━━━━━━━━━━━━━━━━━━━━━━╇━━━━━━━━━━━━━━━┩\n",
       "│ embedding_6 (\u001b[38;5;33mEmbedding\u001b[0m)         │ (\u001b[38;5;34m7\u001b[0m, \u001b[38;5;34m8\u001b[0m, \u001b[38;5;34m10\u001b[0m)             │       \u001b[38;5;34m100,000\u001b[0m │\n",
       "└─────────────────────────────────┴────────────────────────┴───────────────┘\n"
      ]
     },
     "metadata": {},
     "output_type": "display_data"
    },
    {
     "data": {
      "text/html": [
       "<pre style=\"white-space:pre;overflow-x:auto;line-height:normal;font-family:Menlo,'DejaVu Sans Mono',consolas,'Courier New',monospace\"><span style=\"font-weight: bold\"> Total params: </span><span style=\"color: #00af00; text-decoration-color: #00af00\">100,000</span> (390.62 KB)\n",
       "</pre>\n"
      ],
      "text/plain": [
       "\u001b[1m Total params: \u001b[0m\u001b[38;5;34m100,000\u001b[0m (390.62 KB)\n"
      ]
     },
     "metadata": {},
     "output_type": "display_data"
    },
    {
     "data": {
      "text/html": [
       "<pre style=\"white-space:pre;overflow-x:auto;line-height:normal;font-family:Menlo,'DejaVu Sans Mono',consolas,'Courier New',monospace\"><span style=\"font-weight: bold\"> Trainable params: </span><span style=\"color: #00af00; text-decoration-color: #00af00\">100,000</span> (390.62 KB)\n",
       "</pre>\n"
      ],
      "text/plain": [
       "\u001b[1m Trainable params: \u001b[0m\u001b[38;5;34m100,000\u001b[0m (390.62 KB)\n"
      ]
     },
     "metadata": {},
     "output_type": "display_data"
    },
    {
     "data": {
      "text/html": [
       "<pre style=\"white-space:pre;overflow-x:auto;line-height:normal;font-family:Menlo,'DejaVu Sans Mono',consolas,'Courier New',monospace\"><span style=\"font-weight: bold\"> Non-trainable params: </span><span style=\"color: #00af00; text-decoration-color: #00af00\">0</span> (0.00 B)\n",
       "</pre>\n"
      ],
      "text/plain": [
       "\u001b[1m Non-trainable params: \u001b[0m\u001b[38;5;34m0\u001b[0m (0.00 B)\n"
      ]
     },
     "metadata": {},
     "output_type": "display_data"
    }
   ],
   "source": [
    "model.summary()"
   ]
  },
  {
   "cell_type": "code",
   "execution_count": 55,
   "metadata": {},
   "outputs": [
    {
     "name": "stdout",
     "output_type": "stream",
     "text": [
      "\u001b[1m1/1\u001b[0m \u001b[32m━━━━━━━━━━━━━━━━━━━━\u001b[0m\u001b[37m\u001b[0m \u001b[1m0s\u001b[0m 329ms/step\n"
     ]
    },
    {
     "data": {
      "text/plain": [
       "array([[[-0.04380862,  0.023447  , -0.0465029 , -0.01806177,\n",
       "          0.03817562, -0.03376613, -0.01897475, -0.04503188,\n",
       "         -0.02041382,  0.04121253],\n",
       "        [-0.04380862,  0.023447  , -0.0465029 , -0.01806177,\n",
       "          0.03817562, -0.03376613, -0.01897475, -0.04503188,\n",
       "         -0.02041382,  0.04121253],\n",
       "        [-0.04380862,  0.023447  , -0.0465029 , -0.01806177,\n",
       "          0.03817562, -0.03376613, -0.01897475, -0.04503188,\n",
       "         -0.02041382,  0.04121253],\n",
       "        [-0.04380862,  0.023447  , -0.0465029 , -0.01806177,\n",
       "          0.03817562, -0.03376613, -0.01897475, -0.04503188,\n",
       "         -0.02041382,  0.04121253],\n",
       "        [-0.02239733,  0.03167901,  0.01702059, -0.00826738,\n",
       "         -0.04911734,  0.02053266, -0.03349479,  0.03789074,\n",
       "         -0.00483631, -0.0058306 ],\n",
       "        [ 0.00097104, -0.04526502,  0.01838466, -0.03792407,\n",
       "         -0.0450801 ,  0.017703  , -0.0248062 , -0.00216722,\n",
       "          0.03526099,  0.04825782],\n",
       "        [-0.00293181,  0.00067766, -0.00298353,  0.01896748,\n",
       "          0.01663465,  0.03500587,  0.04082249, -0.00276855,\n",
       "         -0.0350222 , -0.04987496],\n",
       "        [ 0.04791874,  0.03781852,  0.00693805,  0.02601476,\n",
       "          0.02814788,  0.02319887, -0.02964225, -0.01029565,\n",
       "          0.04817927,  0.00919194]],\n",
       "\n",
       "       [[-0.04380862,  0.023447  , -0.0465029 , -0.01806177,\n",
       "          0.03817562, -0.03376613, -0.01897475, -0.04503188,\n",
       "         -0.02041382,  0.04121253],\n",
       "        [-0.04380862,  0.023447  , -0.0465029 , -0.01806177,\n",
       "          0.03817562, -0.03376613, -0.01897475, -0.04503188,\n",
       "         -0.02041382,  0.04121253],\n",
       "        [-0.04380862,  0.023447  , -0.0465029 , -0.01806177,\n",
       "          0.03817562, -0.03376613, -0.01897475, -0.04503188,\n",
       "         -0.02041382,  0.04121253],\n",
       "        [-0.04380862,  0.023447  , -0.0465029 , -0.01806177,\n",
       "          0.03817562, -0.03376613, -0.01897475, -0.04503188,\n",
       "         -0.02041382,  0.04121253],\n",
       "        [-0.02239733,  0.03167901,  0.01702059, -0.00826738,\n",
       "         -0.04911734,  0.02053266, -0.03349479,  0.03789074,\n",
       "         -0.00483631, -0.0058306 ],\n",
       "        [ 0.00097104, -0.04526502,  0.01838466, -0.03792407,\n",
       "         -0.0450801 ,  0.017703  , -0.0248062 , -0.00216722,\n",
       "          0.03526099,  0.04825782],\n",
       "        [-0.00293181,  0.00067766, -0.00298353,  0.01896748,\n",
       "          0.01663465,  0.03500587,  0.04082249, -0.00276855,\n",
       "         -0.0350222 , -0.04987496],\n",
       "        [ 0.0344684 ,  0.01889788,  0.02263038,  0.04061117,\n",
       "         -0.00104285,  0.00324041,  0.03990114, -0.03193252,\n",
       "         -0.03924001, -0.01192229]],\n",
       "\n",
       "       [[-0.04380862,  0.023447  , -0.0465029 , -0.01806177,\n",
       "          0.03817562, -0.03376613, -0.01897475, -0.04503188,\n",
       "         -0.02041382,  0.04121253],\n",
       "        [-0.04380862,  0.023447  , -0.0465029 , -0.01806177,\n",
       "          0.03817562, -0.03376613, -0.01897475, -0.04503188,\n",
       "         -0.02041382,  0.04121253],\n",
       "        [-0.04380862,  0.023447  , -0.0465029 , -0.01806177,\n",
       "          0.03817562, -0.03376613, -0.01897475, -0.04503188,\n",
       "         -0.02041382,  0.04121253],\n",
       "        [-0.04380862,  0.023447  , -0.0465029 , -0.01806177,\n",
       "          0.03817562, -0.03376613, -0.01897475, -0.04503188,\n",
       "         -0.02041382,  0.04121253],\n",
       "        [-0.02239733,  0.03167901,  0.01702059, -0.00826738,\n",
       "         -0.04911734,  0.02053266, -0.03349479,  0.03789074,\n",
       "         -0.00483631, -0.0058306 ],\n",
       "        [-0.01070582, -0.03425579, -0.04560241, -0.03989974,\n",
       "         -0.04409872,  0.00781142,  0.02984336,  0.0070657 ,\n",
       "          0.02378824,  0.00590612],\n",
       "        [-0.00293181,  0.00067766, -0.00298353,  0.01896748,\n",
       "          0.01663465,  0.03500587,  0.04082249, -0.00276855,\n",
       "         -0.0350222 , -0.04987496],\n",
       "        [-0.02949026,  0.03981629,  0.00479082, -0.04153646,\n",
       "         -0.03579228, -0.04522847,  0.00244147,  0.00280384,\n",
       "          0.00255605,  0.04966868]],\n",
       "\n",
       "       [[-0.04380862,  0.023447  , -0.0465029 , -0.01806177,\n",
       "          0.03817562, -0.03376613, -0.01897475, -0.04503188,\n",
       "         -0.02041382,  0.04121253],\n",
       "        [-0.04380862,  0.023447  , -0.0465029 , -0.01806177,\n",
       "          0.03817562, -0.03376613, -0.01897475, -0.04503188,\n",
       "         -0.02041382,  0.04121253],\n",
       "        [-0.04380862,  0.023447  , -0.0465029 , -0.01806177,\n",
       "          0.03817562, -0.03376613, -0.01897475, -0.04503188,\n",
       "         -0.02041382,  0.04121253],\n",
       "        [-0.01514389, -0.01224632,  0.03028635,  0.04097258,\n",
       "         -0.03045424,  0.00257517, -0.03254407, -0.01765926,\n",
       "         -0.01923194,  0.00577671],\n",
       "        [-0.02357347, -0.00699575,  0.00907849,  0.04439509,\n",
       "          0.03552611, -0.04299668, -0.01925564, -0.0013025 ,\n",
       "         -0.04110618,  0.00338713],\n",
       "        [-0.01990688,  0.02966836, -0.02949589,  0.04065576,\n",
       "          0.03606923,  0.04558572, -0.03862575, -0.03499919,\n",
       "         -0.03276062, -0.03238014],\n",
       "        [ 0.04777397,  0.00960349, -0.02001586,  0.00923071,\n",
       "          0.02432481,  0.0488358 ,  0.00448263, -0.04400209,\n",
       "         -0.00279288,  0.04973359],\n",
       "        [ 0.0312182 , -0.03265738,  0.03183686,  0.03721598,\n",
       "          0.03702178, -0.03332088, -0.04343473,  0.04276638,\n",
       "         -0.00195815,  0.04411571]],\n",
       "\n",
       "       [[-0.04380862,  0.023447  , -0.0465029 , -0.01806177,\n",
       "          0.03817562, -0.03376613, -0.01897475, -0.04503188,\n",
       "         -0.02041382,  0.04121253],\n",
       "        [-0.04380862,  0.023447  , -0.0465029 , -0.01806177,\n",
       "          0.03817562, -0.03376613, -0.01897475, -0.04503188,\n",
       "         -0.02041382,  0.04121253],\n",
       "        [-0.04380862,  0.023447  , -0.0465029 , -0.01806177,\n",
       "          0.03817562, -0.03376613, -0.01897475, -0.04503188,\n",
       "         -0.02041382,  0.04121253],\n",
       "        [-0.01514389, -0.01224632,  0.03028635,  0.04097258,\n",
       "         -0.03045424,  0.00257517, -0.03254407, -0.01765926,\n",
       "         -0.01923194,  0.00577671],\n",
       "        [-0.02357347, -0.00699575,  0.00907849,  0.04439509,\n",
       "          0.03552611, -0.04299668, -0.01925564, -0.0013025 ,\n",
       "         -0.04110618,  0.00338713],\n",
       "        [-0.01990688,  0.02966836, -0.02949589,  0.04065576,\n",
       "          0.03606923,  0.04558572, -0.03862575, -0.03499919,\n",
       "         -0.03276062, -0.03238014],\n",
       "        [ 0.04777397,  0.00960349, -0.02001586,  0.00923071,\n",
       "          0.02432481,  0.0488358 ,  0.00448263, -0.04400209,\n",
       "         -0.00279288,  0.04973359],\n",
       "        [ 0.00671496,  0.04043064, -0.03876921, -0.00884397,\n",
       "          0.0059722 ,  0.0474194 , -0.01802168,  0.04978123,\n",
       "          0.04038158, -0.01035262]],\n",
       "\n",
       "       [[-0.04380862,  0.023447  , -0.0465029 , -0.01806177,\n",
       "          0.03817562, -0.03376613, -0.01897475, -0.04503188,\n",
       "         -0.02041382,  0.04121253],\n",
       "        [-0.04380862,  0.023447  , -0.0465029 , -0.01806177,\n",
       "          0.03817562, -0.03376613, -0.01897475, -0.04503188,\n",
       "         -0.02041382,  0.04121253],\n",
       "        [-0.04380862,  0.023447  , -0.0465029 , -0.01806177,\n",
       "          0.03817562, -0.03376613, -0.01897475, -0.04503188,\n",
       "         -0.02041382,  0.04121253],\n",
       "        [ 0.02427179,  0.02950301, -0.00508602, -0.04960455,\n",
       "          0.00720023,  0.03191582, -0.03856895, -0.01082673,\n",
       "         -0.02837923,  0.04877027],\n",
       "        [-0.02239733,  0.03167901,  0.01702059, -0.00826738,\n",
       "         -0.04911734,  0.02053266, -0.03349479,  0.03789074,\n",
       "         -0.00483631, -0.0058306 ],\n",
       "        [ 0.01333442,  0.00385831, -0.03965818,  0.04490565,\n",
       "         -0.00963516,  0.04424938, -0.02368966,  0.04169208,\n",
       "          0.00992351, -0.02824397],\n",
       "        [-0.00293181,  0.00067766, -0.00298353,  0.01896748,\n",
       "          0.01663465,  0.03500587,  0.04082249, -0.00276855,\n",
       "         -0.0350222 , -0.04987496],\n",
       "        [-0.04076606,  0.01651938, -0.02448653,  0.01581291,\n",
       "          0.03625034, -0.04820729,  0.01686354, -0.00534733,\n",
       "         -0.00032252,  0.00261144]],\n",
       "\n",
       "       [[-0.04380862,  0.023447  , -0.0465029 , -0.01806177,\n",
       "          0.03817562, -0.03376613, -0.01897475, -0.04503188,\n",
       "         -0.02041382,  0.04121253],\n",
       "        [-0.04380862,  0.023447  , -0.0465029 , -0.01806177,\n",
       "          0.03817562, -0.03376613, -0.01897475, -0.04503188,\n",
       "         -0.02041382,  0.04121253],\n",
       "        [-0.04380862,  0.023447  , -0.0465029 , -0.01806177,\n",
       "          0.03817562, -0.03376613, -0.01897475, -0.04503188,\n",
       "         -0.02041382,  0.04121253],\n",
       "        [-0.04380862,  0.023447  , -0.0465029 , -0.01806177,\n",
       "          0.03817562, -0.03376613, -0.01897475, -0.04503188,\n",
       "         -0.02041382,  0.04121253],\n",
       "        [ 0.02193191,  0.02479111,  0.03771198, -0.03843772,\n",
       "         -0.02228969, -0.01821145, -0.04737094,  0.02670766,\n",
       "          0.01488065,  0.01748273],\n",
       "        [-0.02308847, -0.03934345,  0.00127101,  0.00412234,\n",
       "          0.03898033, -0.00173025, -0.03055605, -0.03257345,\n",
       "         -0.03116363,  0.04006061],\n",
       "        [-0.01563227, -0.04490894, -0.02035972,  0.03704624,\n",
       "         -0.01202656, -0.03588529, -0.04583823,  0.02588454,\n",
       "         -0.00837446,  0.04363109],\n",
       "        [ 0.04777397,  0.00960349, -0.02001586,  0.00923071,\n",
       "          0.02432481,  0.0488358 ,  0.00448263, -0.04400209,\n",
       "         -0.00279288,  0.04973359]]], dtype=float32)"
      ]
     },
     "execution_count": 55,
     "metadata": {},
     "output_type": "execute_result"
    }
   ],
   "source": [
    "model.predict(embedded_docs)\n",
    "# every word is represented in the form of 10 dimentions"
   ]
  },
  {
   "cell_type": "code",
   "execution_count": 45,
   "metadata": {},
   "outputs": [
    {
     "data": {
      "text/plain": [
       "array([   0,    0,    0,    0, 4498, 9184, 8571,  105])"
      ]
     },
     "execution_count": 45,
     "metadata": {},
     "output_type": "execute_result"
    }
   ],
   "source": [
    "embedded_docs[0]\n",
    "# 1st sentence"
   ]
  },
  {
   "cell_type": "code",
   "execution_count": 47,
   "metadata": {},
   "outputs": [
    {
     "name": "stdout",
     "output_type": "stream",
     "text": [
      "\u001b[1m1/1\u001b[0m \u001b[32m━━━━━━━━━━━━━━━━━━━━\u001b[0m\u001b[37m\u001b[0m \u001b[1m0s\u001b[0m 123ms/step\n"
     ]
    },
    {
     "data": {
      "text/plain": [
       "array([[[-1.8779492e-02,  1.1458635e-02, -2.5243033e-02,  4.0377490e-03,\n",
       "          3.2124344e-02, -5.2028894e-03,  2.0111803e-02,  1.7745923e-02,\n",
       "         -8.9015365e-03,  2.9000904e-02],\n",
       "        [-1.8779492e-02,  1.1458635e-02, -2.5243033e-02,  4.0377490e-03,\n",
       "          3.2124344e-02, -5.2028894e-03,  2.0111803e-02,  1.7745923e-02,\n",
       "         -8.9015365e-03,  2.9000904e-02],\n",
       "        [-1.8779492e-02,  1.1458635e-02, -2.5243033e-02,  4.0377490e-03,\n",
       "          3.2124344e-02, -5.2028894e-03,  2.0111803e-02,  1.7745923e-02,\n",
       "         -8.9015365e-03,  2.9000904e-02],\n",
       "        [-1.8779492e-02,  1.1458635e-02, -2.5243033e-02,  4.0377490e-03,\n",
       "          3.2124344e-02, -5.2028894e-03,  2.0111803e-02,  1.7745923e-02,\n",
       "         -8.9015365e-03,  2.9000904e-02],\n",
       "        [-3.6729775e-02, -4.6963822e-02, -3.3665918e-02,  1.8386293e-02,\n",
       "          6.1024353e-04,  3.5796165e-03, -2.1640349e-02,  3.7266854e-02,\n",
       "         -1.6705990e-02,  4.6700407e-02],\n",
       "        [-1.5205860e-02,  4.1453615e-03, -2.8644299e-02, -2.8956354e-02,\n",
       "         -2.7868224e-02,  3.2804932e-02,  3.4097102e-02, -1.2828052e-02,\n",
       "          8.0080032e-03, -3.0897129e-02],\n",
       "        [ 3.9235715e-02,  1.6467217e-02,  3.6952224e-02, -2.2365762e-02,\n",
       "          2.4727296e-02,  2.7036916e-02,  6.0178339e-05, -2.7654542e-02,\n",
       "          2.0239402e-02, -4.1728795e-02],\n",
       "        [ 4.7737230e-02,  7.2225183e-04,  3.4596149e-02, -4.4241216e-02,\n",
       "         -2.7526367e-02,  4.9550299e-02, -3.8325049e-02, -4.6985485e-02,\n",
       "         -4.2237747e-02,  4.0791873e-02]]], dtype=float32)"
      ]
     },
     "execution_count": 47,
     "metadata": {},
     "output_type": "execute_result"
    }
   ],
   "source": [
    "# model.predict(embedded_docs[0])\n",
    "model.predict(np.expand_dims(embedded_docs[0], axis=0))\n",
    "\n",
    "# np.expand_dims: This adds an additional dimension, converting the shape from (input_length,) to (1, input_length), making it compatible with the model.\n",
    "# Batch Dimension: Even when predicting a single sequence, the model expects it in a batch format."
   ]
  },
  {
   "cell_type": "code",
   "execution_count": null,
   "metadata": {},
   "outputs": [],
   "source": []
  }
 ],
 "metadata": {
  "kernelspec": {
   "display_name": "Python 3",
   "language": "python",
   "name": "python3"
  },
  "language_info": {
   "codemirror_mode": {
    "name": "ipython",
    "version": 3
   },
   "file_extension": ".py",
   "mimetype": "text/x-python",
   "name": "python",
   "nbconvert_exporter": "python",
   "pygments_lexer": "ipython3",
   "version": "3.12.4"
  }
 },
 "nbformat": 4,
 "nbformat_minor": 2
}
