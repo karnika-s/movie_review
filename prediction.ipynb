{
 "cells": [
  {
   "cell_type": "code",
   "execution_count": 2,
   "metadata": {},
   "outputs": [],
   "source": [
    "# Step 1: Import Libraries and Load the Model\n",
    "import numpy as np\n",
    "import tensorflow as tf\n",
    "from tensorflow.keras.datasets import imdb\n",
    "from tensorflow.keras.preprocessing import sequence\n",
    "from tensorflow.keras.models import load_model"
   ]
  },
  {
   "cell_type": "code",
   "execution_count": 3,
   "metadata": {},
   "outputs": [],
   "source": [
    "\n",
    "# Load the IMDB dataset word index\n",
    "word_index = imdb.get_word_index()\n",
    "reverse_word_index = {value: key for key, value in word_index.items()}"
   ]
  },
  {
   "cell_type": "code",
   "execution_count": 4,
   "metadata": {},
   "outputs": [
    {
     "name": "stderr",
     "output_type": "stream",
     "text": [
      "WARNING:absl:Compiled the loaded model, but the compiled metrics have yet to be built. `model.compile_metrics` will be empty until you train or evaluate the model.\n"
     ]
    },
    {
     "data": {
      "text/html": [
       "<pre style=\"white-space:pre;overflow-x:auto;line-height:normal;font-family:Menlo,'DejaVu Sans Mono',consolas,'Courier New',monospace\"><span style=\"font-weight: bold\">Model: \"sequential_2\"</span>\n",
       "</pre>\n"
      ],
      "text/plain": [
       "\u001b[1mModel: \"sequential_2\"\u001b[0m\n"
      ]
     },
     "metadata": {},
     "output_type": "display_data"
    },
    {
     "data": {
      "text/html": [
       "<pre style=\"white-space:pre;overflow-x:auto;line-height:normal;font-family:Menlo,'DejaVu Sans Mono',consolas,'Courier New',monospace\">┏━━━━━━━━━━━━━━━━━━━━━━━━━━━━━━━━━┳━━━━━━━━━━━━━━━━━━━━━━━━┳━━━━━━━━━━━━━━━┓\n",
       "┃<span style=\"font-weight: bold\"> Layer (type)                    </span>┃<span style=\"font-weight: bold\"> Output Shape           </span>┃<span style=\"font-weight: bold\">       Param # </span>┃\n",
       "┡━━━━━━━━━━━━━━━━━━━━━━━━━━━━━━━━━╇━━━━━━━━━━━━━━━━━━━━━━━━╇━━━━━━━━━━━━━━━┩\n",
       "│ embedding_2 (<span style=\"color: #0087ff; text-decoration-color: #0087ff\">Embedding</span>)         │ (<span style=\"color: #00af00; text-decoration-color: #00af00\">32</span>, <span style=\"color: #00af00; text-decoration-color: #00af00\">500</span>, <span style=\"color: #00af00; text-decoration-color: #00af00\">128</span>)         │     <span style=\"color: #00af00; text-decoration-color: #00af00\">1,280,000</span> │\n",
       "├─────────────────────────────────┼────────────────────────┼───────────────┤\n",
       "│ simple_rnn_2 (<span style=\"color: #0087ff; text-decoration-color: #0087ff\">SimpleRNN</span>)        │ (<span style=\"color: #00af00; text-decoration-color: #00af00\">32</span>, <span style=\"color: #00af00; text-decoration-color: #00af00\">128</span>)              │        <span style=\"color: #00af00; text-decoration-color: #00af00\">32,896</span> │\n",
       "├─────────────────────────────────┼────────────────────────┼───────────────┤\n",
       "│ dense_2 (<span style=\"color: #0087ff; text-decoration-color: #0087ff\">Dense</span>)                 │ (<span style=\"color: #00af00; text-decoration-color: #00af00\">32</span>, <span style=\"color: #00af00; text-decoration-color: #00af00\">1</span>)                │           <span style=\"color: #00af00; text-decoration-color: #00af00\">129</span> │\n",
       "└─────────────────────────────────┴────────────────────────┴───────────────┘\n",
       "</pre>\n"
      ],
      "text/plain": [
       "┏━━━━━━━━━━━━━━━━━━━━━━━━━━━━━━━━━┳━━━━━━━━━━━━━━━━━━━━━━━━┳━━━━━━━━━━━━━━━┓\n",
       "┃\u001b[1m \u001b[0m\u001b[1mLayer (type)                   \u001b[0m\u001b[1m \u001b[0m┃\u001b[1m \u001b[0m\u001b[1mOutput Shape          \u001b[0m\u001b[1m \u001b[0m┃\u001b[1m \u001b[0m\u001b[1m      Param #\u001b[0m\u001b[1m \u001b[0m┃\n",
       "┡━━━━━━━━━━━━━━━━━━━━━━━━━━━━━━━━━╇━━━━━━━━━━━━━━━━━━━━━━━━╇━━━━━━━━━━━━━━━┩\n",
       "│ embedding_2 (\u001b[38;5;33mEmbedding\u001b[0m)         │ (\u001b[38;5;34m32\u001b[0m, \u001b[38;5;34m500\u001b[0m, \u001b[38;5;34m128\u001b[0m)         │     \u001b[38;5;34m1,280,000\u001b[0m │\n",
       "├─────────────────────────────────┼────────────────────────┼───────────────┤\n",
       "│ simple_rnn_2 (\u001b[38;5;33mSimpleRNN\u001b[0m)        │ (\u001b[38;5;34m32\u001b[0m, \u001b[38;5;34m128\u001b[0m)              │        \u001b[38;5;34m32,896\u001b[0m │\n",
       "├─────────────────────────────────┼────────────────────────┼───────────────┤\n",
       "│ dense_2 (\u001b[38;5;33mDense\u001b[0m)                 │ (\u001b[38;5;34m32\u001b[0m, \u001b[38;5;34m1\u001b[0m)                │           \u001b[38;5;34m129\u001b[0m │\n",
       "└─────────────────────────────────┴────────────────────────┴───────────────┘\n"
      ]
     },
     "metadata": {},
     "output_type": "display_data"
    },
    {
     "data": {
      "text/html": [
       "<pre style=\"white-space:pre;overflow-x:auto;line-height:normal;font-family:Menlo,'DejaVu Sans Mono',consolas,'Courier New',monospace\"><span style=\"font-weight: bold\"> Total params: </span><span style=\"color: #00af00; text-decoration-color: #00af00\">1,313,027</span> (5.01 MB)\n",
       "</pre>\n"
      ],
      "text/plain": [
       "\u001b[1m Total params: \u001b[0m\u001b[38;5;34m1,313,027\u001b[0m (5.01 MB)\n"
      ]
     },
     "metadata": {},
     "output_type": "display_data"
    },
    {
     "data": {
      "text/html": [
       "<pre style=\"white-space:pre;overflow-x:auto;line-height:normal;font-family:Menlo,'DejaVu Sans Mono',consolas,'Courier New',monospace\"><span style=\"font-weight: bold\"> Trainable params: </span><span style=\"color: #00af00; text-decoration-color: #00af00\">1,313,025</span> (5.01 MB)\n",
       "</pre>\n"
      ],
      "text/plain": [
       "\u001b[1m Trainable params: \u001b[0m\u001b[38;5;34m1,313,025\u001b[0m (5.01 MB)\n"
      ]
     },
     "metadata": {},
     "output_type": "display_data"
    },
    {
     "data": {
      "text/html": [
       "<pre style=\"white-space:pre;overflow-x:auto;line-height:normal;font-family:Menlo,'DejaVu Sans Mono',consolas,'Courier New',monospace\"><span style=\"font-weight: bold\"> Non-trainable params: </span><span style=\"color: #00af00; text-decoration-color: #00af00\">0</span> (0.00 B)\n",
       "</pre>\n"
      ],
      "text/plain": [
       "\u001b[1m Non-trainable params: \u001b[0m\u001b[38;5;34m0\u001b[0m (0.00 B)\n"
      ]
     },
     "metadata": {},
     "output_type": "display_data"
    },
    {
     "data": {
      "text/html": [
       "<pre style=\"white-space:pre;overflow-x:auto;line-height:normal;font-family:Menlo,'DejaVu Sans Mono',consolas,'Courier New',monospace\"><span style=\"font-weight: bold\"> Optimizer params: </span><span style=\"color: #00af00; text-decoration-color: #00af00\">2</span> (12.00 B)\n",
       "</pre>\n"
      ],
      "text/plain": [
       "\u001b[1m Optimizer params: \u001b[0m\u001b[38;5;34m2\u001b[0m (12.00 B)\n"
      ]
     },
     "metadata": {},
     "output_type": "display_data"
    }
   ],
   "source": [
    "# Load the pre-trained model with ReLU activation\n",
    "model = load_model('simple_rnn_imdb.h5')\n",
    "model.summary()"
   ]
  },
  {
   "cell_type": "code",
   "execution_count": 5,
   "metadata": {},
   "outputs": [
    {
     "data": {
      "text/plain": [
       "[array([[ 0.7157216 ,  0.24597733,  0.3214102 , ..., -0.80271614,\n",
       "          0.8208744 , -0.90616035],\n",
       "        [ 0.01224573, -0.00834483, -0.04756514, ..., -0.03144863,\n",
       "          0.01939485, -0.01682318],\n",
       "        [ 0.0165409 , -0.06583372, -0.04299586, ..., -0.05743103,\n",
       "         -0.04258983, -0.00652819],\n",
       "        ...,\n",
       "        [ 0.03535748,  0.08023921,  0.07462955, ...,  0.03592988,\n",
       "         -0.04415184, -0.05533186],\n",
       "        [-0.06173751, -0.08332092, -0.05345656, ..., -0.02272882,\n",
       "          0.00109379,  0.08405337],\n",
       "        [ 0.062183  ,  0.12654607,  0.07216232, ...,  0.01789887,\n",
       "          0.02473491, -0.14039683]], dtype=float32),\n",
       " array([[-0.07240724, -0.02226922, -0.09192181, ..., -0.12673344,\n",
       "          0.12542455,  0.03967173],\n",
       "        [-0.08957763,  0.02228436,  0.03461802, ..., -0.14159636,\n",
       "          0.03782811, -0.10160889],\n",
       "        [-0.02603974,  0.04029052, -0.00646751, ..., -0.06201301,\n",
       "         -0.11860472, -0.04133137],\n",
       "        ...,\n",
       "        [-0.08589342, -0.0724675 ,  0.1468751 , ...,  0.02346099,\n",
       "         -0.11551135, -0.12837826],\n",
       "        [-0.10302388, -0.03897316, -0.08325522, ...,  0.10615476,\n",
       "          0.04546023,  0.10569759],\n",
       "        [-0.04160772, -0.12117946,  0.03219069, ...,  0.07299033,\n",
       "          0.06481484,  0.03262262]], dtype=float32),\n",
       " array([[-0.04064164,  0.05129397, -0.02451959, ...,  0.00684483,\n",
       "         -0.04897485, -0.00265186],\n",
       "        [ 0.01123243, -0.13175234, -0.05009418, ..., -0.1143931 ,\n",
       "         -0.11797822, -0.23673065],\n",
       "        [ 0.00996984,  0.0013745 , -0.18721825, ..., -0.02961648,\n",
       "          0.04072192,  0.11155832],\n",
       "        ...,\n",
       "        [ 0.09662343, -0.0067694 , -0.14167947, ...,  0.00618528,\n",
       "         -0.13474172, -0.31534508],\n",
       "        [ 0.02320577,  0.02028663, -0.09423008, ..., -0.09661546,\n",
       "         -0.14202574, -0.21181792],\n",
       "        [ 0.06582128,  0.04710329, -0.0548129 , ...,  0.10691347,\n",
       "          0.01868199,  0.15575418]], dtype=float32),\n",
       " array([-0.0036797 ,  0.00839839, -0.03656702, -0.02013092, -0.02652869,\n",
       "         0.02826427, -0.03171741, -0.00253021,  0.03188488, -0.02094999,\n",
       "         0.00337459,  0.01928143, -0.0070825 ,  0.00689294,  0.00578975,\n",
       "         0.03561715,  0.02200564, -0.00906802,  0.01339811, -0.01409535,\n",
       "        -0.01840168, -0.015363  , -0.015808  ,  0.01964732, -0.03014027,\n",
       "        -0.03364094, -0.02957744,  0.03218362,  0.00170826,  0.00967515,\n",
       "         0.01826739, -0.00050252,  0.02219527,  0.00220209, -0.02315802,\n",
       "        -0.0124963 , -0.0189314 , -0.02417177,  0.0095454 , -0.00554031,\n",
       "        -0.02130611,  0.02411394,  0.01789959,  0.03459005, -0.01542002,\n",
       "         0.01891916, -0.03258821, -0.01355631,  0.00138741, -0.0277506 ,\n",
       "        -0.00697467, -0.00916122, -0.02880437,  0.01801559,  0.02612025,\n",
       "         0.00901632, -0.01089265, -0.02557576, -0.02846448, -0.01372517,\n",
       "        -0.00127045, -0.03652753, -0.02237763,  0.0223318 , -0.02388707,\n",
       "         0.02996839, -0.02196566,  0.00802791, -0.03023935, -0.01949432,\n",
       "         0.01006691, -0.03396609, -0.03390407,  0.00704369,  0.0047107 ,\n",
       "         0.05670942,  0.01245875, -0.02734176, -0.02047597, -0.03347667,\n",
       "        -0.01210496, -0.02158217, -0.01084028,  0.0086408 , -0.05221416,\n",
       "         0.03145161, -0.02751641, -0.02463741,  0.01498405, -0.00654103,\n",
       "         0.02578579,  0.00125624, -0.03417216, -0.00012641, -0.02158258,\n",
       "         0.02104357,  0.03052488, -0.02496633, -0.00996678, -0.01636579,\n",
       "        -0.02410686, -0.00546718, -0.01115734, -0.01152104,  0.02170367,\n",
       "        -0.02863834,  0.00268672,  0.00064908, -0.00029118, -0.03458709,\n",
       "        -0.03721478, -0.03271785, -0.01809772,  0.0154321 ,  0.00640121,\n",
       "        -0.02641985,  0.01800194, -0.00341583, -0.01425794, -0.00150134,\n",
       "         0.02603589,  0.02689761, -0.00034412,  0.01165282, -0.00484882,\n",
       "        -0.02797514, -0.01141172, -0.01997609], dtype=float32),\n",
       " array([[-3.11073363e-01],\n",
       "        [ 4.08226773e-02],\n",
       "        [ 6.07481487e-02],\n",
       "        [ 8.40635300e-02],\n",
       "        [ 6.78301334e-01],\n",
       "        [-6.59284815e-02],\n",
       "        [ 1.42251262e-02],\n",
       "        [ 1.10280178e-02],\n",
       "        [ 5.63974939e-02],\n",
       "        [ 1.71689779e-01],\n",
       "        [ 1.70386191e-02],\n",
       "        [-1.53886840e-01],\n",
       "        [ 5.52553348e-02],\n",
       "        [-7.99831212e-01],\n",
       "        [-1.05925477e+00],\n",
       "        [-1.61834314e-01],\n",
       "        [-2.31386591e-02],\n",
       "        [-8.54121372e-02],\n",
       "        [-4.59756911e-01],\n",
       "        [ 5.93358397e-01],\n",
       "        [-5.57176694e-02],\n",
       "        [ 3.26750800e-02],\n",
       "        [ 2.16451630e-01],\n",
       "        [-1.72466591e-01],\n",
       "        [ 1.54883251e-01],\n",
       "        [ 4.16339142e-03],\n",
       "        [ 8.46916139e-02],\n",
       "        [-6.99855164e-02],\n",
       "        [-1.03617661e-01],\n",
       "        [-2.24429443e-01],\n",
       "        [-1.59904391e-01],\n",
       "        [-1.34655997e-01],\n",
       "        [-1.33156538e-01],\n",
       "        [-2.17787728e-01],\n",
       "        [ 1.20378450e-01],\n",
       "        [-8.01378489e-01],\n",
       "        [-4.31079417e-02],\n",
       "        [-2.00513989e-01],\n",
       "        [-2.65533656e-01],\n",
       "        [-9.88947153e-02],\n",
       "        [ 8.66156891e-02],\n",
       "        [-2.16464669e-01],\n",
       "        [-1.05530336e-01],\n",
       "        [ 9.64263976e-02],\n",
       "        [ 2.90047377e-02],\n",
       "        [-1.01973377e-01],\n",
       "        [-3.99782322e-02],\n",
       "        [ 1.33528918e-01],\n",
       "        [-4.81352136e-02],\n",
       "        [ 1.46273658e-01],\n",
       "        [-1.39198497e-01],\n",
       "        [ 5.95830791e-02],\n",
       "        [-1.60329901e-02],\n",
       "        [ 1.39940485e-01],\n",
       "        [-1.83071747e-01],\n",
       "        [ 9.69505832e-02],\n",
       "        [ 1.81543455e-01],\n",
       "        [-8.83239731e-02],\n",
       "        [-2.22170427e-01],\n",
       "        [ 4.34277840e-02],\n",
       "        [ 1.13595128e-01],\n",
       "        [-1.14741676e-01],\n",
       "        [ 7.79910982e-02],\n",
       "        [-1.61354259e-01],\n",
       "        [ 1.38210744e-01],\n",
       "        [ 1.38150260e-01],\n",
       "        [ 2.05397815e-01],\n",
       "        [-6.28853440e-02],\n",
       "        [-1.22826512e-03],\n",
       "        [-7.00668897e-03],\n",
       "        [-1.06901377e-01],\n",
       "        [-1.25632644e-01],\n",
       "        [ 1.65225208e-01],\n",
       "        [ 1.52296662e-01],\n",
       "        [-9.20899212e-03],\n",
       "        [ 1.21429168e-01],\n",
       "        [-2.39692226e-01],\n",
       "        [ 7.90555552e-02],\n",
       "        [ 1.57583341e-01],\n",
       "        [ 3.43796797e-02],\n",
       "        [-1.84870794e-01],\n",
       "        [-2.01972634e-01],\n",
       "        [ 1.10632789e+00],\n",
       "        [ 1.76993176e-01],\n",
       "        [ 7.04300776e-02],\n",
       "        [ 4.74206507e-02],\n",
       "        [ 1.05762355e-01],\n",
       "        [ 3.69713642e-02],\n",
       "        [-1.46206230e-01],\n",
       "        [-2.59887099e-01],\n",
       "        [ 5.53596281e-02],\n",
       "        [-1.85804442e-02],\n",
       "        [-1.43478706e-01],\n",
       "        [ 1.24662623e-01],\n",
       "        [ 3.38571183e-02],\n",
       "        [ 1.53290043e-02],\n",
       "        [-1.81658298e-01],\n",
       "        [ 1.84521124e-01],\n",
       "        [-4.05460298e-02],\n",
       "        [ 7.39133120e-01],\n",
       "        [-5.26768789e-02],\n",
       "        [ 1.16916947e-01],\n",
       "        [ 1.78359494e-01],\n",
       "        [-8.44964907e-02],\n",
       "        [-1.16785727e-01],\n",
       "        [ 4.61491533e-02],\n",
       "        [ 1.50735378e-01],\n",
       "        [-1.02957360e-01],\n",
       "        [-4.81186032e-01],\n",
       "        [ 1.66472867e-02],\n",
       "        [-1.06619015e-01],\n",
       "        [ 2.70475969e-02],\n",
       "        [ 7.47565255e-02],\n",
       "        [-1.35854319e-01],\n",
       "        [ 1.68663457e-01],\n",
       "        [ 6.18244782e-02],\n",
       "        [ 1.16255239e-01],\n",
       "        [-1.44726336e+00],\n",
       "        [-8.64865407e-02],\n",
       "        [ 8.11649114e-02],\n",
       "        [-1.29496321e-01],\n",
       "        [ 9.24798623e-02],\n",
       "        [-7.52093017e-01],\n",
       "        [ 1.60190731e-01],\n",
       "        [-1.03745081e-01],\n",
       "        [ 6.83228001e-02],\n",
       "        [-1.68258533e-01],\n",
       "        [ 4.33460861e-01]], dtype=float32),\n",
       " array([0.13337837], dtype=float32)]"
      ]
     },
     "execution_count": 5,
     "metadata": {},
     "output_type": "execute_result"
    }
   ],
   "source": [
    "model.get_weights()"
   ]
  },
  {
   "cell_type": "code",
   "execution_count": 6,
   "metadata": {},
   "outputs": [],
   "source": [
    "# Step 2: Helper Functions\n",
    "# Function to decode reviews\n",
    "def decode_review(encoded_review):\n",
    "    return ' '.join([reverse_word_index.get(i - 3, '?') for i in encoded_review])\n",
    "\n",
    "# Function to preprocess user input\n",
    "def preprocess_text(text):\n",
    "    words = text.lower().split()\n",
    "    encoded_review = [word_index.get(word, 2) + 3 for word in words]\n",
    "    padded_review = sequence.pad_sequences([encoded_review], maxlen=500)\n",
    "    return padded_review"
   ]
  },
  {
   "cell_type": "code",
   "execution_count": 7,
   "metadata": {},
   "outputs": [],
   "source": [
    "### Prediction  function\n",
    "\n",
    "def predict_sentiment(review):\n",
    "    preprocessed_input=preprocess_text(review)\n",
    "\n",
    "    prediction=model.predict(preprocessed_input)\n",
    "\n",
    "    sentiment = 'Positive' if prediction[0][0] > 0.5 else 'Negative'\n",
    "    \n",
    "    return sentiment, prediction[0][0]\n",
    "\n"
   ]
  },
  {
   "cell_type": "code",
   "execution_count": 8,
   "metadata": {},
   "outputs": [
    {
     "name": "stdout",
     "output_type": "stream",
     "text": [
      "\u001b[1m1/1\u001b[0m \u001b[32m━━━━━━━━━━━━━━━━━━━━\u001b[0m\u001b[37m\u001b[0m \u001b[1m0s\u001b[0m 489ms/step\n",
      "Review: This movie was fantastic! The acting was great and the plot was thrilling.\n",
      "Sentiment: Positive\n",
      "Prediction Score: 0.8932667970657349\n"
     ]
    }
   ],
   "source": [
    "# Step 4: User Input and Prediction\n",
    "# Example review for prediction\n",
    "example_review = \"This movie was fantastic! The acting was great and the plot was thrilling.\"\n",
    "\n",
    "sentiment,score=predict_sentiment(example_review)\n",
    "\n",
    "print(f'Review: {example_review}')\n",
    "print(f'Sentiment: {sentiment}')\n",
    "print(f'Prediction Score: {score}')"
   ]
  },
  {
   "cell_type": "code",
   "execution_count": null,
   "metadata": {},
   "outputs": [],
   "source": []
  }
 ],
 "metadata": {
  "kernelspec": {
   "display_name": "Python 3",
   "language": "python",
   "name": "python3"
  },
  "language_info": {
   "codemirror_mode": {
    "name": "ipython",
    "version": 3
   },
   "file_extension": ".py",
   "mimetype": "text/x-python",
   "name": "python",
   "nbconvert_exporter": "python",
   "pygments_lexer": "ipython3",
   "version": "3.12.4"
  }
 },
 "nbformat": 4,
 "nbformat_minor": 2
}
